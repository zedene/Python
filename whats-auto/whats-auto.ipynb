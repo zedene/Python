{
 "cells": [
  {
   "cell_type": "code",
   "execution_count": null,
   "metadata": {},
   "outputs": [],
   "source": [
    "import pandas as pd\n",
    "\n",
    "contacts_df = pd.read_excel(\"list.xlsx\")\n",
    "display(contacts_df)"
   ]
  },
  {
   "cell_type": "code",
   "execution_count": null,
   "metadata": {},
   "outputs": [],
   "source": [
    "from selenium import webdriver\n",
    "from selenium.webdriver.common.keys import Keys\n",
    "import time\n",
    "import urllib\n",
    "from selenium.webdriver.common.by import By\n",
    "\n",
    "navigator = webdriver.Chrome()\n",
    "navigator.get(\"https://web.whatsapp.com/\")\n",
    "\n",
    "while len(navigator.find_elements(By.ID, 'pane-side')) < 1:\n",
    "    time.sleep(1)\n",
    "\n",
    "for i, text in enumerate(contatos_df['Text']):\n",
    "    name = contacts_df.loc[i, \"Name\"]\n",
    "    contact = contacts_df.loc[i, \"Number\"]\n",
    "    text = urllib.parse.quote(f\"Hello, {name}! {text}\")\n",
    "    link = f\"https://web.whatsapp.com/send?phone={contact}&text={text}\"\n",
    "    navigator.get(link)\n",
    "    while len(navigator.find_elements(By.ID, 'pane-side')) < 1:\n",
    "        time.sleep(1)\n",
    "    navigator.find_element(By.XPATH, ('//*[@id=\"main\"]/footer/div[1]/div/span[2]/div/div[2]/div[1]/div/div/p/span[1]')).send_keys(Keys.ENTER)\n",
    "    time.sleep(10)     \n",
    "    "
   ]
  }
 ],
 "metadata": {
  "kernelspec": {
   "display_name": "base",
   "language": "python",
   "name": "python3"
  },
  "language_info": {
   "name": "python",
   "version": "3.9.15 (main, Nov 24 2022, 14:39:17) [MSC v.1916 64 bit (AMD64)]"
  },
  "orig_nbformat": 4,
  "vscode": {
   "interpreter": {
    "hash": "f19f93563dacda22739fc5a3e009b744cceb1cf4fdf5c4ccdbebf018b7065255"
   }
  }
 },
 "nbformat": 4,
 "nbformat_minor": 2
}
